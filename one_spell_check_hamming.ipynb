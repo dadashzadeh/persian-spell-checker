{
  "cells": [
    {
      "attachments": {},
      "cell_type": "markdown",
      "metadata": {
        "id": "fqE6fDfRO8SP"
      },
      "source": [
        "# نمونه ساده اولیه"
      ]
    },
    {
      "cell_type": "code",
      "execution_count": 1,
      "metadata": {
        "colab": {
          "base_uri": "https://localhost:8080/",
          "height": 36
        },
        "id": "Ovmo3GrAO8SR",
        "outputId": "dff0a1a7-bbc9-40f4-c6cb-77603102bd67"
      },
      "outputs": [
        {
          "data": {
            "text/plain": [
              "'سلام'"
            ]
          },
          "execution_count": 1,
          "metadata": {},
          "output_type": "execute_result"
        }
      ],
      "source": [
        "# نمونه اول  ساده غلط املایی با استفاده از جایگزین کردن\n",
        "\n",
        "def replace_keyword(word: str, dic: dict = {\"سسلامم\": \"سلام\", \"سسلام\": \"سلام\"}) -> str:\n",
        "    '''\n",
        "    جمله و لیست کلمات غلط و درست را به صورت دیکشنری وارد کنید\n",
        "    ### نمونه پیش فرض:\n",
        "    {\"خوردنن\": \"خوردن\", \"امد\": \"آمد\"}\n",
        "\n",
        "    '''\n",
        "\n",
        "    # دیشکنری تبدل به یک ایتم شده و از ایتم نام و مقدار آن درون یک اسم ریخته میشود\n",
        "    for name, value in dic.items():\n",
        "\n",
        "        # نام با مقدار جایگزین میشود\n",
        "        word = word.replace(name, value)\n",
        "\n",
        "    return word\n",
        "\n",
        "\n",
        "replace_keyword(\"سسلام\" , {\"سسلامم\": \"سلام\", \"سسلام\": \"سلام\", \"سسام\": \"سلام\", \"سسلم\": \"سلام\"})\n"
      ]
    },
    {
      "attachments": {},
      "cell_type": "markdown",
      "metadata": {
        "id": "xfgjRC08O8ST"
      },
      "source": [
        "# نمونه دوم\n"
      ]
    },
    {
      "attachments": {},
      "cell_type": "markdown",
      "metadata": {
        "id": "4uomS9J3QsFX"
      },
      "source": [
        "**پیدا کردن کلمه توسط الگوریتم فاصله همینگ (شباهت)**\n",
        "\n",
        "\n"
      ]
    },
    {
      "attachments": {},
      "cell_type": "markdown",
      "metadata": {
        "id": "xpM0M9Ohe0h_"
      },
      "source": [
        "101100 # تعداد 6\n",
        "\n",
        "111000 # تعداد مقایسه ها 2 | تعداد مشابه ها 4\n",
        "\n",
        "2/6 = 0.33\n",
        "\n",
        "4/6 = 0.66"
      ]
    },
    {
      "cell_type": "markdown",
      "metadata": {
        "id": "lg5aLhPYPFfn"
      },
      "source": [
        "![Hamming-Distance.jpg](data:image/jpeg;base64,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)"
      ]
    },
    {
      "cell_type": "code",
      "execution_count": 3,
      "metadata": {
        "colab": {
          "base_uri": "https://localhost:8080/"
        },
        "id": "U19J06HtPOpX",
        "outputId": "a2b3eb5f-0246-4613-c0c0-1fc18002389b"
      },
      "outputs": [
        {
          "name": "stdout",
          "output_type": "stream",
          "text": [
            "Looking in indexes: https://pypi.org/simple, https://us-python.pkg.dev/colab-wheels/public/simple/\n",
            "Collecting textdistance\n",
            "  Downloading textdistance-4.5.0-py3-none-any.whl (31 kB)\n",
            "Installing collected packages: textdistance\n",
            "Successfully installed textdistance-4.5.0\n"
          ]
        }
      ],
      "source": [
        "!pip install textdistance  # نصب ماژول\n",
        "\n",
        "## Supported libraries:\n",
        "\n",
        "# abydos\n",
        "# Distance\n",
        "# jellyfish\n",
        "# py_stringmatching\n",
        "# pylev\n",
        "# python-Levenshtein\n",
        "# pyxDamerauLevenshtein\n",
        "\n",
        "## Algorithms:\n",
        "\n",
        "# DamerauLevenshtein\n",
        "# Hamming\n",
        "# Jaro\n",
        "# JaroWinkler\n",
        "# Levenshtein\n"
      ]
    },
    {
      "cell_type": "code",
      "execution_count": 65,
      "metadata": {
        "colab": {
          "base_uri": "https://localhost:8080/"
        },
        "id": "Hc7hBeZhUbXU",
        "outputId": "e268d48d-15ae-491a-f51e-61414dfae999"
      },
      "outputs": [
        {
          "name": "stdout",
          "output_type": "stream",
          "text": [
            "0.0\n",
            "--------------------\n",
            "1.0\n"
          ]
        }
      ],
      "source": [
        "import textdistance\n",
        "\n",
        "# مقایسه\n",
        "print(textdistance.hamming.normalized_distance('11111', '11111'))\n",
        "\n",
        "print(\"--------------------\")\n",
        "\n",
        "#شباهت\n",
        "print(textdistance.hamming.normalized_similarity('11111', '11111'))"
      ]
    },
    {
      "cell_type": "code",
      "execution_count": 6,
      "metadata": {
        "id": "xk642lD9O8ST"
      },
      "outputs": [],
      "source": [
        "# ماژول مقایسه متن ها با استفاده از 30 الگوریتم\n",
        "import textdistance\n",
        "\n",
        "\n",
        "def find_similarity_hamming(word: str) -> tuple:\n",
        "    '''\n",
        "    ### پیدا کردن کلمه با استفاده از الگوریتم شباهت همینگ\n",
        "  \n",
        "    '''\n",
        "\n",
        "    with open(\"./The_right_words.txt\", encoding=\"utf8\") as txt_file:\n",
        "        datafile = txt_file.read()\n",
        "        datafile = datafile.splitlines()\n",
        "\n",
        "    list_number_hamming = []\n",
        "    keyword = []\n",
        "\n",
        "    for data in datafile:\n",
        "        te = textdistance.hamming.normalized_similarity(word, data)\n",
        "        if te > 0.70:\n",
        "            list_number_hamming.append(te)\n",
        "            keyword.append(data)\n",
        "\n",
        "    di = dict(zip(keyword, list_number_hamming))\n",
        "    a = sorted(di.items(), key=lambda x: x[1], reverse=True)\n",
        "    \n",
        "    if not a:\n",
        "        return None\n",
        "    else:\n",
        "        return a[0]"
      ]
    },
    {
      "cell_type": "code",
      "execution_count": 7,
      "metadata": {
        "colab": {
          "base_uri": "https://localhost:8080/"
        },
        "id": "cVhfNcASO8SU",
        "outputId": "697f90f2-b25f-4162-e264-56163fa960ad"
      },
      "outputs": [
        {
          "name": "stdout",
          "output_type": "stream",
          "text": [
            "بستنی که از مغازه خریده ایم کلون است\n"
          ]
        }
      ],
      "source": [
        "text = \"بستنیی که از مغازه خویده ایم گلون استت\"\n",
        "\n",
        "text_split = text.split()\n",
        "\n",
        "with open(\"./The_right_words.txt\", encoding=\"utf8\") as txt_file:\n",
        "    datafile = txt_file.read()\n",
        "    datafile = datafile.splitlines()\n",
        "    \n",
        "word_list = [word for word in text_split if word not in datafile]\n",
        "\n",
        "for bad_keyword in word_list:\n",
        "    text = text.replace(bad_keyword, find_similarity_hamming(bad_keyword)[0])\n",
        "\n",
        "print(text)\n"
      ]
    }
  ],
  "metadata": {
    "colab": {
      "provenance": []
    },
    "kernelspec": {
      "display_name": "Python 3",
      "language": "python",
      "name": "python3"
    },
    "language_info": {
      "codemirror_mode": {
        "name": "ipython",
        "version": 3
      },
      "file_extension": ".py",
      "mimetype": "text/x-python",
      "name": "python",
      "nbconvert_exporter": "python",
      "pygments_lexer": "ipython3",
      "version": "3.10.7"
    },
    "orig_nbformat": 4,
    "vscode": {
      "interpreter": {
        "hash": "369f2c481f4da34e4445cda3fffd2e751bd1c4d706f27375911949ba6bb62e1c"
      }
    }
  },
  "nbformat": 4,
  "nbformat_minor": 0
}
